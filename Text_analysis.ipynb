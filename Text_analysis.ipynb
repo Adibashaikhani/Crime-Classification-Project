{
 "cells": [
  {
   "cell_type": "markdown",
   "metadata": {},
   "source": [
    "## Complaint Categorization\n",
    "\n",
    "### Text Classification of complaint based on the raw text data\n",
    "\n",
    "\n",
    "The aim of the project is text classification of complaints based on their description and categories. Based on given text as an input, we have predicted what would be the category. We have different types of categories corresponding to different complaints. We used different machine learning algorithms to get more accurate predictions and choose the most accurate one for our issue. The following classification algorithms have been used: Logistic Regression, Multinomial Naive Bayes, Linear Support Vector Machine (LinearSVM), Random Forest To analysis we used python and their libraries: pandas, matplotlib, NLTK and scikit-learn.\n",
    "\n",
    "**Dataset**\n",
    "\n",
    "We have made Use of the Train.csv and Test.csv dataset provided"
   ]
  },
  {
   "cell_type": "markdown",
   "metadata": {},
   "source": [
    "### Importing packages and loading data"
   ]
  },
  {
   "cell_type": "code",
   "execution_count": null,
   "metadata": {},
   "outputs": [],
   "source": [
    "import pandas as pd\n",
    "import numpy as np\n",
    "import matplotlib.pyplot as plt\n",
    "\n",
    "import time\n",
    "\n",
    "import re\n",
    "import nltk\n",
    "from nltk.corpus import stopwords\n",
    "from nltk.stem import PorterStemmer\n",
    "from nltk.tokenize import sent_tokenize, word_tokenize\n",
    "\n",
    "from sklearn.feature_extraction.text import CountVectorizer, TfidfTransformer\n",
    "from sklearn.model_selection import train_test_split\n",
    "from sklearn.pipeline import Pipeline\n",
    "\n",
    "from sklearn.linear_model import LogisticRegression\n",
    "from sklearn.naive_bayes import MultinomialNB\n",
    "from sklearn.ensemble import RandomForestClassifier, GradientBoostingClassifier\n",
    "from sklearn.svm import LinearSVC\n",
    "\n",
    "from sklearn.metrics import accuracy_score, classification_report\n",
    "\n",
    "import pickle\n",
    "from joblib import dump,load,Parallel, delayed"
   ]
  },
  {
   "cell_type": "code",
   "execution_count": 7,
   "metadata": {},
   "outputs": [
    {
     "data": {
      "text/html": [
       "<div>\n",
       "<style scoped>\n",
       "    .dataframe tbody tr th:only-of-type {\n",
       "        vertical-align: middle;\n",
       "    }\n",
       "\n",
       "    .dataframe tbody tr th {\n",
       "        vertical-align: top;\n",
       "    }\n",
       "\n",
       "    .dataframe thead th {\n",
       "        text-align: right;\n",
       "    }\n",
       "</style>\n",
       "<table border=\"1\" class=\"dataframe\">\n",
       "  <thead>\n",
       "    <tr style=\"text-align: right;\">\n",
       "      <th></th>\n",
       "      <th>category</th>\n",
       "      <th>sub_category</th>\n",
       "      <th>crimeaditionalinfo</th>\n",
       "    </tr>\n",
       "  </thead>\n",
       "  <tbody>\n",
       "    <tr>\n",
       "      <th>0</th>\n",
       "      <td>Online and Social Media Related Crime</td>\n",
       "      <td>Cyber Bullying  Stalking  Sexting</td>\n",
       "      <td>I had continue received random calls and abusi...</td>\n",
       "    </tr>\n",
       "    <tr>\n",
       "      <th>1</th>\n",
       "      <td>Online Financial Fraud</td>\n",
       "      <td>Fraud CallVishing</td>\n",
       "      <td>The above fraudster is continuously messaging ...</td>\n",
       "    </tr>\n",
       "    <tr>\n",
       "      <th>2</th>\n",
       "      <td>Online Gambling  Betting</td>\n",
       "      <td>Online Gambling  Betting</td>\n",
       "      <td>He is acting like a police and demanding for m...</td>\n",
       "    </tr>\n",
       "    <tr>\n",
       "      <th>3</th>\n",
       "      <td>Online and Social Media Related Crime</td>\n",
       "      <td>Online Job Fraud</td>\n",
       "      <td>In apna Job I have applied for job interview f...</td>\n",
       "    </tr>\n",
       "    <tr>\n",
       "      <th>4</th>\n",
       "      <td>Online Financial Fraud</td>\n",
       "      <td>Fraud CallVishing</td>\n",
       "      <td>I received a call from lady stating that she w...</td>\n",
       "    </tr>\n",
       "  </tbody>\n",
       "</table>\n",
       "</div>"
      ],
      "text/plain": [
       "                                category                       sub_category  \\\n",
       "0  Online and Social Media Related Crime  Cyber Bullying  Stalking  Sexting   \n",
       "1                 Online Financial Fraud                  Fraud CallVishing   \n",
       "2               Online Gambling  Betting           Online Gambling  Betting   \n",
       "3  Online and Social Media Related Crime                   Online Job Fraud   \n",
       "4                 Online Financial Fraud                  Fraud CallVishing   \n",
       "\n",
       "                                  crimeaditionalinfo  \n",
       "0  I had continue received random calls and abusi...  \n",
       "1  The above fraudster is continuously messaging ...  \n",
       "2  He is acting like a police and demanding for m...  \n",
       "3  In apna Job I have applied for job interview f...  \n",
       "4  I received a call from lady stating that she w...  "
      ]
     },
     "execution_count": 7,
     "metadata": {},
     "output_type": "execute_result"
    }
   ],
   "source": [
    "df = pd.read_csv('data\\\\train.csv')\n",
    "df.head()"
   ]
  },
  {
   "cell_type": "code",
   "execution_count": 8,
   "metadata": {},
   "outputs": [
    {
     "name": "stdout",
     "output_type": "stream",
     "text": [
      "<class 'pandas.core.frame.DataFrame'>\n",
      "RangeIndex: 93686 entries, 0 to 93685\n",
      "Data columns (total 3 columns):\n",
      " #   Column              Non-Null Count  Dtype \n",
      "---  ------              --------------  ----- \n",
      " 0   category            93686 non-null  object\n",
      " 1   sub_category        87095 non-null  object\n",
      " 2   crimeaditionalinfo  93665 non-null  object\n",
      "dtypes: object(3)\n",
      "memory usage: 2.1+ MB\n"
     ]
    }
   ],
   "source": [
    "df.info()"
   ]
  },
  {
   "cell_type": "markdown",
   "metadata": {},
   "source": [
    "Shape of data:"
   ]
  },
  {
   "cell_type": "code",
   "execution_count": 9,
   "metadata": {},
   "outputs": [
    {
     "data": {
      "text/plain": [
       "(93686, 3)"
      ]
     },
     "execution_count": 9,
     "metadata": {},
     "output_type": "execute_result"
    }
   ],
   "source": [
    "df.shape"
   ]
  },
  {
   "cell_type": "markdown",
   "metadata": {},
   "source": [
    "Checking the missing values in data:"
   ]
  },
  {
   "cell_type": "code",
   "execution_count": 10,
   "metadata": {},
   "outputs": [
    {
     "data": {
      "text/plain": [
       "category                 0\n",
       "sub_category          6591\n",
       "crimeaditionalinfo      21\n",
       "dtype: int64"
      ]
     },
     "execution_count": 10,
     "metadata": {},
     "output_type": "execute_result"
    }
   ],
   "source": [
    "df.isnull().sum()"
   ]
  },
  {
   "cell_type": "markdown",
   "metadata": {},
   "source": [
    "Example description:"
   ]
  },
  {
   "cell_type": "code",
   "execution_count": 11,
   "metadata": {},
   "outputs": [
    {
     "data": {
      "text/plain": [
       "'In apna Job I have applied for job interview for telecalling and the resource management wrote that twelve hundred will be charged for security amount of laptop and work from home when I have given interview on the given address next day they charged twelve hundred and six hundred more money in the name of insurance after that they have referred me to the job calling there is no work of laptop neither a work from home kindly please take action against it as soon as possible and if possible please help me to recover my financial loss'"
      ]
     },
     "execution_count": 11,
     "metadata": {},
     "output_type": "execute_result"
    }
   ],
   "source": [
    "df['crimeaditionalinfo'][3]"
   ]
  },
  {
   "cell_type": "markdown",
   "metadata": {},
   "source": [
    "## Data Cleaning\n",
    "\n",
    "**Data type change:**"
   ]
  },
  {
   "cell_type": "code",
   "execution_count": 12,
   "metadata": {},
   "outputs": [],
   "source": [
    "df['crimeaditionalinfo'] = df['crimeaditionalinfo'].astype(str)"
   ]
  },
  {
   "cell_type": "code",
   "execution_count": 13,
   "metadata": {},
   "outputs": [
    {
     "name": "stdout",
     "output_type": "stream",
     "text": [
      "7284637\n"
     ]
    }
   ],
   "source": [
    "print(df['crimeaditionalinfo'].apply(lambda x: len(x.split(' '))).sum())"
   ]
  },
  {
   "cell_type": "code",
   "execution_count": 14,
   "metadata": {},
   "outputs": [
    {
     "name": "stdout",
     "output_type": "stream",
     "text": [
      "Unique Categories\n"
     ]
    },
    {
     "data": {
      "text/plain": [
       "array(['Online and Social Media Related Crime', 'Online Financial Fraud',\n",
       "       'Online Gambling  Betting',\n",
       "       'RapeGang Rape RGRSexually Abusive Content',\n",
       "       'Any Other Cyber Crime', 'Cyber Attack/ Dependent Crimes',\n",
       "       'Cryptocurrency Crime', 'Sexually Explicit Act',\n",
       "       'Sexually Obscene material',\n",
       "       'Hacking  Damage to computercomputer system etc',\n",
       "       'Cyber Terrorism',\n",
       "       'Child Pornography CPChild Sexual Abuse Material CSAM',\n",
       "       'Online Cyber Trafficking', 'Ransomware',\n",
       "       'Report Unlawful Content'], dtype=object)"
      ]
     },
     "execution_count": 14,
     "metadata": {},
     "output_type": "execute_result"
    }
   ],
   "source": [
    "print(\"Unique Categories\")\n",
    "df.category.unique()\n"
   ]
  },
  {
   "cell_type": "code",
   "execution_count": 15,
   "metadata": {},
   "outputs": [
    {
     "name": "stdout",
     "output_type": "stream",
     "text": [
      "Unique Sub Categories\n"
     ]
    },
    {
     "data": {
      "text/plain": [
       "array(['Cyber Bullying  Stalking  Sexting', 'Fraud CallVishing',\n",
       "       'Online Gambling  Betting', 'Online Job Fraud',\n",
       "       'UPI Related Frauds', 'Internet Banking Related Fraud', nan,\n",
       "       'Other', 'Profile Hacking Identity Theft',\n",
       "       'DebitCredit Card FraudSim Swap Fraud', 'EWallet Related Fraud',\n",
       "       'Data Breach/Theft', 'Cheating by Impersonation',\n",
       "       'Denial of Service (DoS)/Distributed Denial of Service (DDOS) attacks',\n",
       "       'FakeImpersonating Profile', 'Cryptocurrency Fraud',\n",
       "       'Malware Attack', 'Business Email CompromiseEmail Takeover',\n",
       "       'Email Hacking', 'Hacking/Defacement',\n",
       "       'Unauthorised AccessData Breach', 'SQL Injection',\n",
       "       'Provocative Speech for unlawful acts', 'Ransomware Attack',\n",
       "       'Cyber Terrorism', 'Tampering with computer source documents',\n",
       "       'DematDepository Fraud', 'Online Trafficking',\n",
       "       'Online Matrimonial Fraud', 'Website DefacementHacking',\n",
       "       'Damage to computer computer systems etc', 'Impersonating Email',\n",
       "       'EMail Phishing', 'Ransomware', 'Intimidating Email',\n",
       "       'Against Interest of sovereignty or integrity of India'],\n",
       "      dtype=object)"
      ]
     },
     "execution_count": 15,
     "metadata": {},
     "output_type": "execute_result"
    }
   ],
   "source": [
    "print(\"Unique Sub Categories\")\n",
    "df.sub_category.unique()"
   ]
  },
  {
   "cell_type": "markdown",
   "metadata": {},
   "source": [
    "**Lenght of characters:**"
   ]
  },
  {
   "cell_type": "code",
   "execution_count": 16,
   "metadata": {},
   "outputs": [
    {
     "data": {
      "text/html": [
       "<div>\n",
       "<style scoped>\n",
       "    .dataframe tbody tr th:only-of-type {\n",
       "        vertical-align: middle;\n",
       "    }\n",
       "\n",
       "    .dataframe tbody tr th {\n",
       "        vertical-align: top;\n",
       "    }\n",
       "\n",
       "    .dataframe thead th {\n",
       "        text-align: right;\n",
       "    }\n",
       "</style>\n",
       "<table border=\"1\" class=\"dataframe\">\n",
       "  <thead>\n",
       "    <tr style=\"text-align: right;\">\n",
       "      <th></th>\n",
       "      <th>category</th>\n",
       "      <th>sub_category</th>\n",
       "      <th>crimeaditionalinfo</th>\n",
       "      <th>length</th>\n",
       "    </tr>\n",
       "  </thead>\n",
       "  <tbody>\n",
       "    <tr>\n",
       "      <th>0</th>\n",
       "      <td>Online and Social Media Related Crime</td>\n",
       "      <td>Cyber Bullying  Stalking  Sexting</td>\n",
       "      <td>I had continue received random calls and abusi...</td>\n",
       "      <td>258</td>\n",
       "    </tr>\n",
       "    <tr>\n",
       "      <th>1</th>\n",
       "      <td>Online Financial Fraud</td>\n",
       "      <td>Fraud CallVishing</td>\n",
       "      <td>The above fraudster is continuously messaging ...</td>\n",
       "      <td>247</td>\n",
       "    </tr>\n",
       "    <tr>\n",
       "      <th>2</th>\n",
       "      <td>Online Gambling  Betting</td>\n",
       "      <td>Online Gambling  Betting</td>\n",
       "      <td>He is acting like a police and demanding for m...</td>\n",
       "      <td>229</td>\n",
       "    </tr>\n",
       "    <tr>\n",
       "      <th>3</th>\n",
       "      <td>Online and Social Media Related Crime</td>\n",
       "      <td>Online Job Fraud</td>\n",
       "      <td>In apna Job I have applied for job interview f...</td>\n",
       "      <td>538</td>\n",
       "    </tr>\n",
       "    <tr>\n",
       "      <th>4</th>\n",
       "      <td>Online Financial Fraud</td>\n",
       "      <td>Fraud CallVishing</td>\n",
       "      <td>I received a call from lady stating that she w...</td>\n",
       "      <td>194</td>\n",
       "    </tr>\n",
       "  </tbody>\n",
       "</table>\n",
       "</div>"
      ],
      "text/plain": [
       "                                category                       sub_category  \\\n",
       "0  Online and Social Media Related Crime  Cyber Bullying  Stalking  Sexting   \n",
       "1                 Online Financial Fraud                  Fraud CallVishing   \n",
       "2               Online Gambling  Betting           Online Gambling  Betting   \n",
       "3  Online and Social Media Related Crime                   Online Job Fraud   \n",
       "4                 Online Financial Fraud                  Fraud CallVishing   \n",
       "\n",
       "                                  crimeaditionalinfo  length  \n",
       "0  I had continue received random calls and abusi...     258  \n",
       "1  The above fraudster is continuously messaging ...     247  \n",
       "2  He is acting like a police and demanding for m...     229  \n",
       "3  In apna Job I have applied for job interview f...     538  \n",
       "4  I received a call from lady stating that she w...     194  "
      ]
     },
     "execution_count": 16,
     "metadata": {},
     "output_type": "execute_result"
    }
   ],
   "source": [
    "df['length'] = df['crimeaditionalinfo'].apply(len)\n",
    "df.head()"
   ]
  },
  {
   "cell_type": "markdown",
   "metadata": {},
   "source": [
    "## Data analysis\n",
    "\n",
    "We check proportion of category and sub_category variable:"
   ]
  },
  {
   "cell_type": "code",
   "execution_count": 17,
   "metadata": {},
   "outputs": [
    {
     "data": {
      "text/plain": [
       "category\n",
       "Online Financial Fraud                                  57434\n",
       "Online and Social Media Related Crime                   12140\n",
       "Any Other Cyber Crime                                   10878\n",
       "Cyber Attack/ Dependent Crimes                           3608\n",
       "RapeGang Rape RGRSexually Abusive Content                2822\n",
       "Sexually Obscene material                                1838\n",
       "Hacking  Damage to computercomputer system etc           1710\n",
       "Sexually Explicit Act                                    1552\n",
       "Cryptocurrency Crime                                      480\n",
       "Online Gambling  Betting                                  444\n",
       "Child Pornography CPChild Sexual Abuse Material CSAM      379\n",
       "Online Cyber Trafficking                                  183\n",
       "Cyber Terrorism                                           161\n",
       "Ransomware                                                 56\n",
       "Report Unlawful Content                                     1\n",
       "Name: count, dtype: int64"
      ]
     },
     "execution_count": 17,
     "metadata": {},
     "output_type": "execute_result"
    }
   ],
   "source": [
    "df.category.value_counts()\n"
   ]
  },
  {
   "cell_type": "code",
   "execution_count": 18,
   "metadata": {},
   "outputs": [
    {
     "data": {
      "text/plain": [
       "sub_category\n",
       "UPI Related Frauds                                                      26856\n",
       "Other                                                                   10878\n",
       "DebitCredit Card FraudSim Swap Fraud                                    10805\n",
       "Internet Banking Related Fraud                                           8872\n",
       "Fraud CallVishing                                                        5803\n",
       "Cyber Bullying  Stalking  Sexting                                        4089\n",
       "EWallet Related Fraud                                                    4047\n",
       "FakeImpersonating Profile                                                2299\n",
       "Profile Hacking Identity Theft                                           2073\n",
       "Cheating by Impersonation                                                1988\n",
       "Unauthorised AccessData Breach                                           1114\n",
       "Online Job Fraud                                                          912\n",
       "DematDepository Fraud                                                     761\n",
       "Tampering with computer source documents                                  567\n",
       "Hacking/Defacement                                                        540\n",
       "Ransomware Attack                                                         534\n",
       "Malware Attack                                                            521\n",
       "SQL Injection                                                             508\n",
       "Denial of Service (DoS)/Distributed Denial of Service (DDOS) attacks      504\n",
       "Data Breach/Theft                                                         484\n",
       "Cryptocurrency Fraud                                                      480\n",
       "Online Gambling  Betting                                                  444\n",
       "Provocative Speech for unlawful acts                                      417\n",
       "Email Hacking                                                             349\n",
       "Business Email CompromiseEmail Takeover                                   290\n",
       "Online Trafficking                                                        183\n",
       "Cyber Terrorism                                                           161\n",
       "EMail Phishing                                                            157\n",
       "Online Matrimonial Fraud                                                  132\n",
       "Damage to computer computer systems etc                                   108\n",
       "Website DefacementHacking                                                  89\n",
       "Ransomware                                                                 56\n",
       "Impersonating Email                                                        44\n",
       "Intimidating Email                                                         29\n",
       "Against Interest of sovereignty or integrity of India                       1\n",
       "Name: count, dtype: int64"
      ]
     },
     "execution_count": 18,
     "metadata": {},
     "output_type": "execute_result"
    }
   ],
   "source": [
    "df.sub_category.value_counts()"
   ]
  },
  {
   "cell_type": "code",
   "execution_count": 19,
   "metadata": {},
   "outputs": [
    {
     "name": "stderr",
     "output_type": "stream",
     "text": [
      "C:\\Users\\abc\\AppData\\Local\\Temp\\ipykernel_16632\\943372004.py:6: FutureWarning: \n",
      "\n",
      "Passing `palette` without assigning `hue` is deprecated and will be removed in v0.14.0. Assign the `x` variable to `hue` and set `legend=False` for the same effect.\n",
      "\n",
      "  sns.countplot(x='category', data=df, palette='viridis')  # Adjust the palette as needed\n"
     ]
    },
    {
     "data": {
      "image/png": "[encoded data removed]",
      "text/plain": [
       "<Figure size 1400x600 with 1 Axes>"
      ]
     },
     "metadata": {},
     "output_type": "display_data"
    }
   ],
   "source": [
    "import seaborn as sns\n",
    "import matplotlib.pyplot as plt\n",
    "import pandas as pd\n",
    "\n",
    "plt.figure(figsize=(14, 6))\n",
    "sns.countplot(x='category', data=df, palette='viridis')  # Adjust the palette as needed\n",
    "plt.xlabel('Type of Category')\n",
    "plt.ylabel('Count')\n",
    "plt.title('Number of records in each category')\n",
    "plt.xticks(rotation=45)  # Rotate labels for better readability if needed\n",
    "plt.show()"
   ]
  },
  {
   "cell_type": "code",
   "execution_count": 20,
   "metadata": {},
   "outputs": [
    {
     "name": "stdout",
     "output_type": "stream",
     "text": [
      "                                  crimeaditionalinfo  text_length\n",
      "0  I had continue received random calls and abusi...        258.0\n",
      "1  The above fraudster is continuously messaging ...        247.0\n",
      "2  He is acting like a police and demanding for m...        229.0\n",
      "3  In apna Job I have applied for job interview f...        538.0\n",
      "4  I received a call from lady stating that she w...        194.0\n"
     ]
    }
   ],
   "source": [
    "# Calculate the length of the text in 'crimeaditionalinfo' for the train dataset\n",
    "train_df = pd.read_csv('data//train.csv')\n",
    "train_df['text_length'] = train_df['crimeaditionalinfo'].str.len()\n",
    "print(train_df[['crimeaditionalinfo', 'text_length']].head())\n",
    "\n"
   ]
  },
  {
   "cell_type": "code",
   "execution_count": 21,
   "metadata": {},
   "outputs": [
    {
     "name": "stdout",
     "output_type": "stream",
     "text": [
      "                                  crimeaditionalinfo  text_length\n",
      "0  Sir namaskar  mein Ranjit Kumar PatraPaise neh...        738.0\n",
      "1          KOTAK MAHINDRA BANK FRAUD\\r\\nFRAUD AMOUNT         39.0\n",
      "2  The issue actually started when I got this ema...        830.0\n",
      "3  I am amit kumar from karwi chitrakoot I am tot...        134.0\n",
      "4  I have ordered  saree and  blouse from rinki s...        258.0\n"
     ]
    }
   ],
   "source": [
    "# Calculate the length of the text in 'crimeaditionalinfo' for the test dataset\n",
    "test_df = pd.read_csv('data//test.csv')\n",
    "test_df['text_length'] = test_df['crimeaditionalinfo'].str.len()\n",
    "print(test_df[['crimeaditionalinfo', 'text_length']].head())"
   ]
  },
  {
   "cell_type": "code",
   "execution_count": null,
   "metadata": {
    "scrolled": true
   },
   "outputs": [
    {
     "name": "stdout",
     "output_type": "stream",
     "text": [
      "                                  crimeaditionalinfo  text_length  \\\n",
      "0  I had continue received random calls and abusi...        258.0   \n",
      "1  The above fraudster is continuously messaging ...        247.0   \n",
      "2  He is acting like a police and demanding for m...        229.0   \n",
      "3  In apna Job I have applied for job interview f...        538.0   \n",
      "4  I received a call from lady stating that she w...        194.0   \n",
      "\n",
      "  length_category  \n",
      "0            Long  \n",
      "1            Long  \n",
      "2            Long  \n",
      "3            Long  \n",
      "4            Long  \n",
      "                                  crimeaditionalinfo  text_length  \\\n",
      "0  Sir namaskar  mein Ranjit Kumar PatraPaise neh...        738.0   \n",
      "1          KOTAK MAHINDRA BANK FRAUD\\r\\nFRAUD AMOUNT         39.0   \n",
      "2  The issue actually started when I got this ema...        830.0   \n",
      "3  I am amit kumar from karwi chitrakoot I am tot...        134.0   \n",
      "4  I have ordered  saree and  blouse from rinki s...        258.0   \n",
      "\n",
      "  length_category  \n",
      "0            Long  \n",
      "1           Short  \n",
      "2            Long  \n",
      "3            Long  \n",
      "4            Long  \n"
     ]
    }
   ],
   "source": [
    "import pandas as pd\n",
    "\n",
    "# Load your datasets\n",
    "train_df = pd.read_csv('data//train.csv')\n",
    "test_df = pd.read_csv('data//test.csv')\n",
    "\n",
    "# Calculate the length of the text in 'crimeaditionalinfo'\n",
    "train_df['text_length'] = train_df['crimeaditionalinfo'].str.len()\n",
    "test_df['text_length'] = test_df['crimeaditionalinfo'].str.len()\n",
    "\n",
    "# Define a function to categorize lengths\n",
    "def categorize_length(length):\n",
    "    if length < 50:\n",
    "        return 'Short'\n",
    "    elif 50 <= length < 100:\n",
    "        return 'Medium'\n",
    "    else:\n",
    "        return 'Long'\n",
    "\n",
    "# Apply the categorization function\n",
    "train_df['length_category'] = train_df['text_length'].apply(categorize_length)\n",
    "test_df['length_category'] = test_df['text_length'].apply(categorize_length)\n",
    "\n",
    "# Display the updated dataframes\n",
    "print(train_df[['crimeaditionalinfo', 'text_length', 'length_category']].head())\n",
    "print(test_df[['crimeaditionalinfo', 'text_length', 'length_category']].head())\n"
   ]
  },
  {
   "cell_type": "markdown",
   "metadata": {},
   "source": [
    "## Text Pre-processing\n",
    "\n",
    "In this step we have to remove punctuation, stop words, bad characters and so on. The second step is aimed to convertion all of the words to lower case and then stemmed them using the Porter Stemmer in the NLTK package.\n",
    "\n",
    "**Stemming** operation bundles together words of same root. E.g. stem operation bundles “fishing”,  and “fished” into a common \"fish\"."
   ]
  },
  {
   "cell_type": "markdown",
   "metadata": {},
   "source": [
    "The function to clean text, remove stop words and apply stemming operation for each line of text:"
   ]
  },
  {
   "cell_type": "code",
   "execution_count": 23,
   "metadata": {},
   "outputs": [],
   "source": [
    "# Initialize the stemmer and stop words set\n",
    "stemmer = PorterStemmer()\n",
    "stop_words = set(stopwords.words('english'))"
   ]
  },
  {
   "cell_type": "code",
   "execution_count": null,
   "metadata": {},
   "outputs": [
    {
     "name": "stderr",
     "output_type": "stream",
     "text": [
      "[nltk_data] Downloading package punkt to\n",
      "[nltk_data]     C:\\Users\\abc\\AppData\\Roaming\\nltk_data...\n",
      "[nltk_data]   Package punkt is already up-to-date!\n",
      "[nltk_data] Downloading package averaged_perceptron_tagger to\n",
      "[nltk_data]     C:\\Users\\abc\\AppData\\Roaming\\nltk_data...\n",
      "[nltk_data]   Package averaged_perceptron_tagger is already up-to-\n",
      "[nltk_data]       date!\n",
      "[nltk_data] Downloading package stopwords to\n",
      "[nltk_data]     C:\\Users\\abc\\AppData\\Roaming\\nltk_data...\n",
      "[nltk_data]   Package stopwords is already up-to-date!\n"
     ]
    },
    {
     "name": "stdout",
     "output_type": "stream",
     "text": [
      "Training Data Size: (93686, 5)\n",
      "Testing Data Size: (31229, 5)\n",
      "Preprocessing Time for Training Data: 53.94 seconds\n",
      "Preprocessing Time for Testing Data: 17.80 seconds\n",
      "POS Tagging Time for Training Data: 222.79 seconds\n",
      "POS Tagging Time for Testing Data: 73.68 seconds\n",
      "Training Data Sample with POS Tags:\n",
      "                                  crimeaditionalinfo  \\\n",
      "0  I had continue received random calls and abusi...   \n",
      "1  The above fraudster is continuously messaging ...   \n",
      "2  He is acting like a police and demanding for m...   \n",
      "3  In apna Job I have applied for job interview f...   \n",
      "4  I received a call from lady stating that she w...   \n",
      "\n",
      "                                  cleaned_crime_info  \\\n",
      "0  continu receiv random call abus messag whatsap...   \n",
      "1  fraudster continu messag ask pay money send fa...   \n",
      "2  act like polic demand money ad section text me...   \n",
      "3  apna job appli job interview telecal resourc m...   \n",
      "4  receiv call ladi state send new phone vivo rec...   \n",
      "\n",
      "                                            pos_tags  \n",
      "0  [(continu, NN), (receiv, NN), (random, NN), (c...  \n",
      "1  [(fraudster, NN), (continu, NN), (messag, NN),...  \n",
      "2  [(act, NN), (like, IN), (polic, JJ), (demand, ...  \n",
      "3  [(apna, JJ), (job, NN), (appli, JJ), (job, NN)...  \n",
      "4  [(receiv, NN), (call, NN), (ladi, NN), (state,...  \n",
      "\n",
      "Testing Data Sample with POS Tags:\n",
      "                                  crimeaditionalinfo  \\\n",
      "0  Sir namaskar  mein Ranjit Kumar PatraPaise neh...   \n",
      "1          KOTAK MAHINDRA BANK FRAUD\\r\\nFRAUD AMOUNT   \n",
      "2  The issue actually started when I got this ema...   \n",
      "3  I am amit kumar from karwi chitrakoot I am tot...   \n",
      "4  I have ordered  saree and  blouse from rinki s...   \n",
      "\n",
      "                                  cleaned_crime_info  \\\n",
      "0  sir namaskar mein ranjit kumar patrapais nehi ...   \n",
      "1             kotak mahindra bank fraud fraud amount   \n",
      "2  issu actual start got email first glanc seem l...   \n",
      "3  amit kumar karwi chitrakoot total depress frau...   \n",
      "4  order sare blous rinki sur paid amount take pa...   \n",
      "\n",
      "                                            pos_tags  \n",
      "0  [(sir, NN), (namaskar, CC), (mein, NN), (ranji...  \n",
      "1  [(kotak, NNS), (mahindra, VBD), (bank, NN), (f...  \n",
      "2  [(issu, JJ), (actual, JJ), (start, NN), (got, ...  \n",
      "3  [(amit, NN), (kumar, NN), (karwi, VBD), (chitr...  \n",
      "4  [(order, NN), (sare, NN), (blous, JJ), (rinki,...  \n"
     ]
    }
   ],
   "source": [
    "# Ensure you have the necessary NLTK resources\n",
    "nltk.download('punkt')\n",
    "nltk.download('averaged_perceptron_tagger')\n",
    "nltk.download('stopwords')\n",
    "\n",
    "# Display the shape of the datasets\n",
    "print(\"Training Data Size:\", train_df.shape)\n",
    "print(\"Testing Data Size:\", test_df.shape)\n",
    "\n",
    "# Define stop words and stemmer\n",
    "stop_words = set(stopwords.words('english'))\n",
    "stemmer = PorterStemmer()\n",
    "\n",
    "# Preprocessing function\n",
    "def preprocess_text(text):\n",
    "    if isinstance(text, str):  # Check if the input is a string\n",
    "        # Lowercase the text\n",
    "        text = text.lower()\n",
    "        \n",
    "        # Remove special characters and numbers\n",
    "        text = re.sub(r'[^a-zA-Z\\s]', '', text)\n",
    "        \n",
    "        # Tokenization\n",
    "        tokens = text.split()\n",
    "        \n",
    "        # Remove stop words\n",
    "        tokens = [word for word in tokens if word not in stop_words]\n",
    "        \n",
    "        # Stemming\n",
    "        tokens = [stemmer.stem(word) for word in tokens]\n",
    "        \n",
    "        # Join tokens back into a single string\n",
    "        return ' '.join(tokens)\n",
    "    else:\n",
    "        return ''  # Return an empty string for non-string types\n",
    "\n",
    "# Sample data for quicker testing (uncomment the next two lines for full dataset)\n",
    "# train_df = train_df.sample(n=1000, random_state=1)\n",
    "# test_df = test_df.sample(n=1000, random_state=1)\n",
    "\n",
    "# Timing preprocessing for training data\n",
    "start_time = time.time()\n",
    "train_df['cleaned_crime_info'] = train_df['crimeaditionalinfo'].apply(preprocess_text)\n",
    "print(f\"Preprocessing Time for Training Data: {time.time() - start_time:.2f} seconds\")\n",
    "\n",
    "# Timing preprocessing for testing data\n",
    "start_time = time.time()\n",
    "test_df['cleaned_crime_info'] = test_df['crimeaditionalinfo'].apply(preprocess_text)\n",
    "print(f\"Preprocessing Time for Testing Data: {time.time() - start_time:.2f} seconds\")\n",
    "\n",
    "# POS tagging function\n",
    "def pos_tagging(text):\n",
    "    if text:  # Check if text is not empty\n",
    "        tokens = word_tokenize(text)  # Tokenize the cleaned text\n",
    "        return nltk.pos_tag(tokens)     # Perform POS tagging\n",
    "    return []  # Return an empty list for empty text\n",
    "\n",
    "# Timing POS tagging for training data\n",
    "start_time = time.time()\n",
    "train_df['pos_tags'] = train_df['cleaned_crime_info'].apply(pos_tagging)\n",
    "print(f\"POS Tagging Time for Training Data: {time.time() - start_time:.2f} seconds\")\n",
    "\n",
    "# Timing POS tagging for testing data\n",
    "start_time = time.time()\n",
    "test_df['pos_tags'] = test_df['cleaned_crime_info'].apply(pos_tagging)\n",
    "print(f\"POS Tagging Time for Testing Data: {time.time() - start_time:.2f} seconds\")\n",
    "\n",
    "# Display the updated DataFrames with original, cleaned text, and POS tags\n",
    "print(\"Training Data Sample with POS Tags:\")\n",
    "print(train_df[['crimeaditionalinfo', 'cleaned_crime_info', 'pos_tags']].head())\n",
    "\n",
    "print(\"\\nTesting Data Sample with POS Tags:\")\n",
    "print(test_df[['crimeaditionalinfo', 'cleaned_crime_info', 'pos_tags']].head())\n"
   ]
  },
  {
   "cell_type": "markdown",
   "metadata": {},
   "source": [
    "### Bag of words\n",
    "\n",
    "To run machine learning algorithms we need to convert the text files into numerical feature vectors. We will use bag of words model for our analysis. In general we segment each text file into words  and count of times each word occurs in each document and finally assign each word an integer id. Each unique word in our dictionary will correspond to a feature (descriptive feature).\n",
    "\n",
    "More precisely we will convert our text documents to a matrix of token counts (CountVectorizer), then transform a count matrix to a normalized TF-IDF representation (tf-idf transformer). \n",
    "\n",
    "\n",
    "#### CountVectorizer "
   ]
  },
  {
   "cell_type": "code",
   "execution_count": null,
   "metadata": {},
   "outputs": [
    {
     "name": "stdout",
     "output_type": "stream",
     "text": [
      "Count Vectorizer Shape for Training Data: (93686, 98928)\n",
      "Count Vectorizer Shape for Testing Data: (31229, 98928)\n"
     ]
    }
   ],
   "source": [
    "from sklearn.feature_extraction.text import CountVectorizer\n",
    "\n",
    "# Count Vectorizer \n",
    "count_vectorizer = CountVectorizer()\n",
    "train_counts = count_vectorizer.fit_transform(train_df['cleaned_crime_info'])\n",
    "test_counts = count_vectorizer.transform(test_df['cleaned_crime_info'])\n",
    "\n",
    "\n",
    "\n",
    "# Display the shapes of the result\n",
    "print(\"Count Vectorizer Shape for Training Data:\", train_counts.shape)\n",
    "print(\"Count Vectorizer Shape for Testing Data:\", test_counts.shape)\n"
   ]
  },
  {
   "cell_type": "code",
   "execution_count": 39,
   "metadata": {},
   "outputs": [
    {
     "name": "stdout",
     "output_type": "stream",
     "text": [
      "TF-IDF Shape for Training Data: (93686, 98928)\n",
      "TF-IDF Shape for Testing Data: (31229, 98928)\n"
     ]
    }
   ],
   "source": [
    "from sklearn.feature_extraction.text import TfidfTransformer\n",
    "# TF-IDF Transformer\n",
    "tfidf_transformer = TfidfTransformer()\n",
    "train_tfidf = tfidf_transformer.fit_transform(train_counts)\n",
    "test_tfidf = tfidf_transformer.transform(test_counts)\n",
    "\n",
    "# Display the shapes of the resulting TF-IDF matrices\n",
    "print(\"TF-IDF Shape for Training Data:\", train_tfidf.shape)\n",
    "print(\"TF-IDF Shape for Testing Data:\", test_tfidf.shape)\n"
   ]
  },
  {
   "cell_type": "markdown",
   "metadata": {},
   "source": [
    "### Data preparation\n",
    "\n",
    "Now we split dataset into train and test dataset:"
   ]
  },
  {
   "cell_type": "code",
   "execution_count": null,
   "metadata": {},
   "outputs": [
    {
     "name": "stdout",
     "output_type": "stream",
     "text": [
      "Training Feature Matrix Shape: (70264, 98928)\n",
      "Testing Feature Matrix Shape: (23422, 98928)\n",
      "Training Target Shape: (70264,)\n",
      "Testing Target Shape: (23422,)\n"
     ]
    }
   ],
   "source": [
    "import pandas as pd\n",
    "from sklearn.model_selection import train_test_split\n",
    "from sklearn.preprocessing import LabelEncoder\n",
    "from sklearn.linear_model import LogisticRegression\n",
    "from sklearn.metrics import classification_report, confusion_matrix\n",
    "from imblearn.over_sampling import SMOTE\n",
    "\n",
    "# Step 1: Define your features (X) and target variable (y)\n",
    "X = train_tfidf  # The TF-IDF feature matrix\n",
    "y = train_df['category']  \n",
    "\n",
    "# Step 2: Encode the categorical target variable\n",
    "label_encoder = LabelEncoder()\n",
    "y_encoded = label_encoder.fit_transform(y)\n",
    "\n",
    "# Step 3: Split the data into training and testing sets (75/25 split)\n",
    "X_train, X_test, y_train, y_test = train_test_split(X, y_encoded, test_size=0.25, random_state=42)\n",
    "\n",
    "# Apply SMOTE\n",
    "smote = SMOTE(random_state=42)\n",
    "X_resampled, y_resampled = smote.fit_resample(X_train, y_train)\n",
    "\n",
    "# Check the shapes of the resulting datasets\n",
    "print(\"Training Feature Matrix Shape:\", X_train.shape)\n",
    "print(\"Testing Feature Matrix Shape:\", X_test.shape)\n",
    "print(\"Training Target Shape:\", y_train.shape)\n",
    "print(\"Testing Target Shape:\", y_test.shape)\n"
   ]
  },
  {
   "cell_type": "markdown",
   "metadata": {},
   "source": [
    "## Build model\n",
    "\n",
    "We use different machine learning algorithms to get more accurate predictions and choose the most accurate one for our issue. The used classification models are: Logistic Regression, Multinomial Naive Bayes, Linear Support Vector Machine (LinearSVM) and Random Forest as well.\n",
    "\n",
    "\n",
    "**Models**\n",
    "\n",
    "Firstly we calculate each model separately. To evaluate our models we used accuracy score and classification report(precision, recall, F1-score). \n",
    "\n",
    "Accuracy is one of the most common classification evaluation metric, i.e. the number of correct predictions made as a ratio of total predictions. \n",
    "\n",
    "**1. Logistic Regression**"
   ]
  },
  {
   "cell_type": "code",
   "execution_count": 127,
   "metadata": {},
   "outputs": [
    {
     "name": "stdout",
     "output_type": "stream",
     "text": [
      "Training the Logistic Regression model...\n",
      "Logistic Regression Accuracy: 0.7627\n",
      "              precision    recall  f1-score   support\n",
      "\n",
      "           0       0.43      0.24      0.31      2623\n",
      "           1       0.88      0.26      0.40        81\n",
      "           2       0.71      0.28      0.40       116\n",
      "           3       1.00      1.00      1.00       959\n",
      "           4       0.00      0.00      0.00        44\n",
      "           5       0.50      0.25      0.33       414\n",
      "           6       0.00      0.00      0.00        44\n",
      "           7       0.81      0.95      0.88     14360\n",
      "           8       0.33      0.01      0.01       133\n",
      "           9       0.57      0.59      0.58      3049\n",
      "          10       0.00      0.00      0.00        14\n",
      "          11       1.00      0.91      0.95       705\n",
      "          12       0.00      0.00      0.00         1\n",
      "          13       0.23      0.02      0.04       405\n",
      "          14       0.40      0.08      0.13       474\n",
      "\n",
      "    accuracy                           0.76     23422\n",
      "   macro avg       0.46      0.31      0.34     23422\n",
      "weighted avg       0.72      0.76      0.73     23422\n",
      "\n"
     ]
    },
    {
     "name": "stderr",
     "output_type": "stream",
     "text": [
      "e:\\Python\\Lib\\site-packages\\sklearn\\metrics\\_classification.py:1497: UndefinedMetricWarning: Precision is ill-defined and being set to 0.0 in labels with no predicted samples. Use `zero_division` parameter to control this behavior.\n",
      "  _warn_prf(average, modifier, f\"{metric.capitalize()} is\", len(result))\n",
      "e:\\Python\\Lib\\site-packages\\sklearn\\metrics\\_classification.py:1497: UndefinedMetricWarning: Precision is ill-defined and being set to 0.0 in labels with no predicted samples. Use `zero_division` parameter to control this behavior.\n",
      "  _warn_prf(average, modifier, f\"{metric.capitalize()} is\", len(result))\n",
      "e:\\Python\\Lib\\site-packages\\sklearn\\metrics\\_classification.py:1497: UndefinedMetricWarning: Precision is ill-defined and being set to 0.0 in labels with no predicted samples. Use `zero_division` parameter to control this behavior.\n",
      "  _warn_prf(average, modifier, f\"{metric.capitalize()} is\", len(result))\n"
     ]
    },
    {
     "data": {
      "text/plain": [
       "['lr_model.pkl']"
      ]
     },
     "execution_count": 127,
     "metadata": {},
     "output_type": "execute_result"
    }
   ],
   "source": [
    "import joblib\n",
    "\n",
    "\n",
    "log_model = LogisticRegression(max_iter=1000)  # Create the model\n",
    "\n",
    "# Fit the model\n",
    "print(\"Training the Logistic Regression model...\")\n",
    "log_model.fit(X_train, y_train)\n",
    "\n",
    "# Make predictions\n",
    "log_predictions = log_model.predict(X_test)\n",
    "\n",
    "# Evaluate Logistic Regression\n",
    "log_accuracy = accuracy_score(y_test, log_predictions)\n",
    "print(f'Logistic Regression Accuracy: {log_accuracy:.4f}')\n",
    "print(classification_report(y_test, log_predictions))\n",
    "\n",
    "joblib.dump(log_model, 'lr_model.pkl')"
   ]
  },
  {
   "cell_type": "markdown",
   "metadata": {},
   "source": [
    "**2. LinearSVC**"
   ]
  },
  {
   "cell_type": "code",
   "execution_count": 128,
   "metadata": {},
   "outputs": [
    {
     "name": "stdout",
     "output_type": "stream",
     "text": [
      "Training the Support Vector Classifier model...\n"
     ]
    },
    {
     "name": "stderr",
     "output_type": "stream",
     "text": [
      "e:\\Python\\Lib\\site-packages\\sklearn\\svm\\_classes.py:31: FutureWarning: The default value of `dual` will change from `True` to `'auto'` in 1.5. Set the value of `dual` explicitly to suppress the warning.\n",
      "  warnings.warn(\n"
     ]
    },
    {
     "name": "stdout",
     "output_type": "stream",
     "text": [
      "SVC Accuracy: 0.7577\n",
      "              precision    recall  f1-score   support\n",
      "\n",
      "           0       0.40      0.26      0.32      2623\n",
      "           1       0.76      0.36      0.49        81\n",
      "           2       0.65      0.41      0.50       116\n",
      "           3       1.00      1.00      1.00       959\n",
      "           4       1.00      0.02      0.04        44\n",
      "           5       0.47      0.23      0.31       414\n",
      "           6       0.00      0.00      0.00        44\n",
      "           7       0.82      0.94      0.87     14360\n",
      "           8       0.80      0.06      0.11       133\n",
      "           9       0.56      0.56      0.56      3049\n",
      "          10       0.60      0.21      0.32        14\n",
      "          11       0.99      0.91      0.95       705\n",
      "          12       0.00      0.00      0.00         1\n",
      "          13       0.37      0.08      0.13       405\n",
      "          14       0.39      0.13      0.19       474\n",
      "\n",
      "    accuracy                           0.76     23422\n",
      "   macro avg       0.59      0.34      0.39     23422\n",
      "weighted avg       0.72      0.76      0.73     23422\n",
      "\n"
     ]
    },
    {
     "name": "stderr",
     "output_type": "stream",
     "text": [
      "e:\\Python\\Lib\\site-packages\\sklearn\\metrics\\_classification.py:1497: UndefinedMetricWarning: Precision is ill-defined and being set to 0.0 in labels with no predicted samples. Use `zero_division` parameter to control this behavior.\n",
      "  _warn_prf(average, modifier, f\"{metric.capitalize()} is\", len(result))\n",
      "e:\\Python\\Lib\\site-packages\\sklearn\\metrics\\_classification.py:1497: UndefinedMetricWarning: Precision is ill-defined and being set to 0.0 in labels with no predicted samples. Use `zero_division` parameter to control this behavior.\n",
      "  _warn_prf(average, modifier, f\"{metric.capitalize()} is\", len(result))\n",
      "e:\\Python\\Lib\\site-packages\\sklearn\\metrics\\_classification.py:1497: UndefinedMetricWarning: Precision is ill-defined and being set to 0.0 in labels with no predicted samples. Use `zero_division` parameter to control this behavior.\n",
      "  _warn_prf(average, modifier, f\"{metric.capitalize()} is\", len(result))\n"
     ]
    },
    {
     "data": {
      "text/plain": [
       "['svc_model.pkl']"
      ]
     },
     "execution_count": 128,
     "metadata": {},
     "output_type": "execute_result"
    }
   ],
   "source": [
    "svc_model = LinearSVC()  # Create the model\n",
    "\n",
    "# Fit the model\n",
    "print(\"Training the Support Vector Classifier model...\")\n",
    "svc_model.fit(X_train, y_train)\n",
    "\n",
    "# Make predictions\n",
    "svc_predictions = svc_model.predict(X_test)\n",
    "\n",
    "# Evaluate SVC\n",
    "svc_accuracy = accuracy_score(y_test, svc_predictions)\n",
    "print(f'SVC Accuracy: {svc_accuracy:.4f}')\n",
    "print(classification_report(y_test, svc_predictions))\n",
    "\n",
    "joblib.dump(svc_model, 'svc_model.pkl')"
   ]
  },
  {
   "cell_type": "markdown",
   "metadata": {},
   "source": [
    "#### 3. Naive Bayes Classifier "
   ]
  },
  {
   "cell_type": "code",
   "execution_count": 129,
   "metadata": {},
   "outputs": [
    {
     "name": "stdout",
     "output_type": "stream",
     "text": [
      "Training the Naive Bayes Classifier model...\n",
      "Naive Bayes Accuracy: 0.7120\n",
      "              precision    recall  f1-score   support\n",
      "\n",
      "           0       0.61      0.01      0.02      2623\n",
      "           1       0.00      0.00      0.00        81\n",
      "           2       0.00      0.00      0.00       116\n",
      "           3       1.00      1.00      1.00       959\n",
      "           4       0.00      0.00      0.00        44\n",
      "           5       0.00      0.00      0.00       414\n",
      "           6       0.00      0.00      0.00        44\n",
      "           7       0.70      1.00      0.82     14360\n",
      "           8       0.00      0.00      0.00       133\n",
      "           9       0.58      0.24      0.34      3049\n",
      "          10       0.00      0.00      0.00        14\n",
      "          11       1.00      0.91      0.95       705\n",
      "          12       0.00      0.00      0.00         1\n",
      "          13       0.00      0.00      0.00       405\n",
      "          14       0.00      0.00      0.00       474\n",
      "\n",
      "    accuracy                           0.71     23422\n",
      "   macro avg       0.26      0.21      0.21     23422\n",
      "weighted avg       0.64      0.71      0.62     23422\n",
      "\n"
     ]
    },
    {
     "name": "stderr",
     "output_type": "stream",
     "text": [
      "e:\\Python\\Lib\\site-packages\\sklearn\\metrics\\_classification.py:1497: UndefinedMetricWarning: Precision is ill-defined and being set to 0.0 in labels with no predicted samples. Use `zero_division` parameter to control this behavior.\n",
      "  _warn_prf(average, modifier, f\"{metric.capitalize()} is\", len(result))\n",
      "e:\\Python\\Lib\\site-packages\\sklearn\\metrics\\_classification.py:1497: UndefinedMetricWarning: Precision is ill-defined and being set to 0.0 in labels with no predicted samples. Use `zero_division` parameter to control this behavior.\n",
      "  _warn_prf(average, modifier, f\"{metric.capitalize()} is\", len(result))\n",
      "e:\\Python\\Lib\\site-packages\\sklearn\\metrics\\_classification.py:1497: UndefinedMetricWarning: Precision is ill-defined and being set to 0.0 in labels with no predicted samples. Use `zero_division` parameter to control this behavior.\n",
      "  _warn_prf(average, modifier, f\"{metric.capitalize()} is\", len(result))\n"
     ]
    },
    {
     "data": {
      "text/plain": [
       "['nb_model.pkl']"
      ]
     },
     "execution_count": 129,
     "metadata": {},
     "output_type": "execute_result"
    }
   ],
   "source": [
    "nbc = MultinomialNB()  # Create the model\n",
    "\n",
    "# Fit the directly\n",
    "print(\"Training the Naive Bayes Classifier model...\") \n",
    "nbc.fit(X_train, y_train)\n",
    "\n",
    "# Make predictions \n",
    "pred_y = nbc.predict(X_test)\n",
    "\n",
    "# Evaluate NB\n",
    "accuracy = accuracy_score(y_test, pred_y)\n",
    "print(f'Naive Bayes Accuracy: {accuracy:.4f}')\n",
    "print(classification_report(y_test, pred_y))\n",
    "\n",
    "joblib.dump(nbc, 'nb_model.pkl')"
   ]
  },
  {
   "cell_type": "markdown",
   "metadata": {},
   "source": [
    "**4. Random Forest**"
   ]
  },
  {
   "cell_type": "code",
   "execution_count": 130,
   "metadata": {},
   "outputs": [
    {
     "name": "stdout",
     "output_type": "stream",
     "text": [
      "Training the Random Forest model...\n",
      "Random Forest Accuracy: 0.7522\n",
      "              precision    recall  f1-score   support\n",
      "\n",
      "           0       0.60      0.06      0.12      2623\n",
      "           1       0.95      0.25      0.39        81\n",
      "           2       0.83      0.04      0.08       116\n",
      "           3       1.00      1.00      1.00       959\n",
      "           4       0.00      0.00      0.00        44\n",
      "           5       0.78      0.04      0.08       414\n",
      "           6       0.00      0.00      0.00        44\n",
      "           7       0.75      0.99      0.86     14360\n",
      "           8       0.00      0.00      0.00       133\n",
      "           9       0.61      0.49      0.54      3049\n",
      "          10       0.00      0.00      0.00        14\n",
      "          11       1.00      0.91      0.95       705\n",
      "          12       0.00      0.00      0.00         1\n",
      "          13       0.90      0.07      0.12       405\n",
      "          14       0.79      0.09      0.16       474\n",
      "\n",
      "    accuracy                           0.75     23422\n",
      "   macro avg       0.55      0.26      0.29     23422\n",
      "weighted avg       0.73      0.75      0.69     23422\n",
      "\n"
     ]
    },
    {
     "name": "stderr",
     "output_type": "stream",
     "text": [
      "e:\\Python\\Lib\\site-packages\\sklearn\\metrics\\_classification.py:1497: UndefinedMetricWarning: Precision is ill-defined and being set to 0.0 in labels with no predicted samples. Use `zero_division` parameter to control this behavior.\n",
      "  _warn_prf(average, modifier, f\"{metric.capitalize()} is\", len(result))\n",
      "e:\\Python\\Lib\\site-packages\\sklearn\\metrics\\_classification.py:1497: UndefinedMetricWarning: Precision is ill-defined and being set to 0.0 in labels with no predicted samples. Use `zero_division` parameter to control this behavior.\n",
      "  _warn_prf(average, modifier, f\"{metric.capitalize()} is\", len(result))\n",
      "e:\\Python\\Lib\\site-packages\\sklearn\\metrics\\_classification.py:1497: UndefinedMetricWarning: Precision is ill-defined and being set to 0.0 in labels with no predicted samples. Use `zero_division` parameter to control this behavior.\n",
      "  _warn_prf(average, modifier, f\"{metric.capitalize()} is\", len(result))\n"
     ]
    },
    {
     "data": {
      "text/plain": [
       "['rf_model.pkl']"
      ]
     },
     "execution_count": 130,
     "metadata": {},
     "output_type": "execute_result"
    }
   ],
   "source": [
    "rf_model = RandomForestClassifier(n_estimators=50, random_state=42)  # Create the model\n",
    "\n",
    "# Fit the model\n",
    "print(\"Training the Random Forest model...\")  \n",
    "rf_model.fit(X_train, y_train)\n",
    "\n",
    "# Make predictions \n",
    "pred_rf = rf_model.predict(X_test)\n",
    "\n",
    "# Evaluate RF\n",
    "accuracy_rf = accuracy_score(y_test, pred_rf)\n",
    "print(f'Random Forest Accuracy: {accuracy_rf:.4f}')\n",
    "print(classification_report(y_test, pred_rf))\n",
    "\n",
    "joblib.dump(rf_model, 'rf_model.pkl')"
   ]
  },
  {
   "cell_type": "markdown",
   "metadata": {},
   "source": [
    "We can write a function to build and calculates our all models as follows:"
   ]
  },
  {
   "cell_type": "code",
   "execution_count": 132,
   "metadata": {},
   "outputs": [],
   "source": [
    "def get_models(X_train, X_test, y_train, y_test):\n",
    "    models = pd.DataFrame()\n",
    "    classifiers = [\n",
    "        LogisticRegression(max_iter=1000),\n",
    "        LinearSVC(),\n",
    "        MultinomialNB(),\n",
    "        RandomForestClassifier(n_estimators=50)\n",
    "    ]\n",
    "\n",
    "    # Identify unseen labels in the test set\n",
    "    train_classes = set(y_train)\n",
    "    test_classes = set(y_test)\n",
    "    unseen_classes = test_classes - train_classes\n",
    "\n",
    "    if unseen_classes:\n",
    "        print(f\"Unseen classes in the test set: {unseen_classes}\")\n",
    "        # Filter out test samples with unseen labels\n",
    "        valid_test_indices = [i for i, label in enumerate(y_test) if label in train_classes]\n",
    "        \n",
    "        # Keep X_test as sparse, no conversion\n",
    "        X_test_filtered = X_test[valid_test_indices]  # Keep sparse representation\n",
    "        y_test_filtered = y_test[valid_test_indices]\n",
    "\n",
    "        # Train models on filtered data\n",
    "        for classifier in classifiers:\n",
    "            pipeline = Pipeline(steps=[\n",
    "                ('classifier', classifier)\n",
    "            ])\n",
    "            pipeline.fit(X_train, y_train)\n",
    "            score = pipeline.score(X_test_filtered, y_test_filtered)\n",
    "            param_dict = {\n",
    "                'Model': classifier.__class__.__name__,\n",
    "                'Score': score\n",
    "            }\n",
    "            models = pd.concat([models, pd.DataFrame(param_dict, index=[0])], ignore_index=True)\n",
    "    else:\n",
    "        # If no unseen classes, proceed with regular evaluation\n",
    "        for classifier in classifiers:\n",
    "            pipeline = Pipeline(steps=[\n",
    "                ('classifier', classifier)\n",
    "            ])\n",
    "            pipeline.fit(X_train, y_train)\n",
    "            score = pipeline.score(X_test, y_test)\n",
    "            param_dict = {\n",
    "                'Model': classifier.__class__.__name__,\n",
    "                'Score': score\n",
    "            }\n",
    "            models = pd.concat([models, pd.DataFrame(param_dict, index=[0])], ignore_index=True)\n",
    "\n",
    "    models.reset_index(drop=True, inplace=True)\n",
    "    print(models.sort_values(by='Score', ascending=False))\n"
   ]
  },
  {
   "cell_type": "code",
   "execution_count": 134,
   "metadata": {},
   "outputs": [
    {
     "name": "stdout",
     "output_type": "stream",
     "text": [
      "Unseen classes in the test set: {12}\n"
     ]
    },
    {
     "name": "stderr",
     "output_type": "stream",
     "text": [
      "e:\\Python\\Lib\\site-packages\\sklearn\\svm\\_classes.py:31: FutureWarning: The default value of `dual` will change from `True` to `'auto'` in 1.5. Set the value of `dual` explicitly to suppress the warning.\n",
      "  warnings.warn(\n"
     ]
    },
    {
     "name": "stdout",
     "output_type": "stream",
     "text": [
      "                    Model     Score\n",
      "0      LogisticRegression  0.762777\n",
      "1               LinearSVC  0.757696\n",
      "3  RandomForestClassifier  0.750352\n",
      "2           MultinomialNB  0.712053\n"
     ]
    }
   ],
   "source": [
    "get_models(X_train, X_test, y_train, y_test)"
   ]
  },
  {
   "cell_type": "markdown",
   "metadata": {},
   "source": [
    "**Best model**\n",
    "\n",
    "We have tested several different models and now, we check which one is the best:"
   ]
  },
  {
   "cell_type": "code",
   "execution_count": 135,
   "metadata": {},
   "outputs": [
    {
     "data": {
      "text/html": [
       "<div>\n",
       "<style scoped>\n",
       "    .dataframe tbody tr th:only-of-type {\n",
       "        vertical-align: middle;\n",
       "    }\n",
       "\n",
       "    .dataframe tbody tr th {\n",
       "        vertical-align: top;\n",
       "    }\n",
       "\n",
       "    .dataframe thead th {\n",
       "        text-align: right;\n",
       "    }\n",
       "</style>\n",
       "<table border=\"1\" class=\"dataframe\">\n",
       "  <thead>\n",
       "    <tr style=\"text-align: right;\">\n",
       "      <th></th>\n",
       "      <th>Model</th>\n",
       "      <th>Score</th>\n",
       "    </tr>\n",
       "  </thead>\n",
       "  <tbody>\n",
       "    <tr>\n",
       "      <th>0</th>\n",
       "      <td>Logistic Regression</td>\n",
       "      <td>0.762744</td>\n",
       "    </tr>\n",
       "    <tr>\n",
       "      <th>1</th>\n",
       "      <td>SVC</td>\n",
       "      <td>0.757664</td>\n",
       "    </tr>\n",
       "    <tr>\n",
       "      <th>3</th>\n",
       "      <td>Random Forest</td>\n",
       "      <td>0.752156</td>\n",
       "    </tr>\n",
       "    <tr>\n",
       "      <th>2</th>\n",
       "      <td>Naive Bayes</td>\n",
       "      <td>0.712023</td>\n",
       "    </tr>\n",
       "  </tbody>\n",
       "</table>\n",
       "</div>"
      ],
      "text/plain": [
       "                 Model     Score\n",
       "0  Logistic Regression  0.762744\n",
       "1                  SVC  0.757664\n",
       "3        Random Forest  0.752156\n",
       "2          Naive Bayes  0.712023"
      ]
     },
     "execution_count": 135,
     "metadata": {},
     "output_type": "execute_result"
    }
   ],
   "source": [
    "# Calculate accuracy for each model\n",
    "log_acc = accuracy_score(log_predictions, y_test)\n",
    "svm_acc = accuracy_score(svc_predictions, y_test)\n",
    "nb_acc = accuracy_score(pred_y, y_test)\n",
    "rf_acc = accuracy_score(pred_rf, y_test)\n",
    "\n",
    "# Create a DataFrame to store the results\n",
    "models = pd.DataFrame({\n",
    "                      'Model': ['Logistic Regression', 'SVC', 'Naive Bayes', 'Random Forest'],\n",
    "                      'Score': [log_acc, svm_acc, nb_acc, rf_acc]})\n",
    "models.sort_values(by='Score', ascending=False)"
   ]
  },
  {
   "cell_type": "markdown",
   "metadata": {},
   "source": [
    "From the above information we can see Logistic Regression is the best model with an accuracy of 76%"
   ]
  },
  {
   "cell_type": "markdown",
   "metadata": {},
   "source": [
    "### Predictions\n",
    "\n",
    "We can see some predictions from our model on test example text (crime description).\n",
    "\n",
    "First we load our trained model:"
   ]
  },
  {
   "cell_type": "code",
   "execution_count": 143,
   "metadata": {},
   "outputs": [],
   "source": [
    "with open('models\\lr_model.pkl', 'rb') as f:\n",
    "    model = load(f)"
   ]
  },
  {
   "cell_type": "markdown",
   "metadata": {},
   "source": [
    "We can check the result and predicted class:"
   ]
  },
  {
   "cell_type": "code",
   "execution_count": 146,
   "metadata": {},
   "outputs": [
    {
     "name": "stdout",
     "output_type": "stream",
     "text": [
      "Prediction: Online and Social Media Related Crime\n"
     ]
    }
   ],
   "source": [
    "# Your input text\n",
    "new_text = [\"Someone hake my instagram id and Facebook id and post my pictures please help me and stop this account Poonam upadhyay name se koi bhi Facebook account nahi chala rahi hu per koi mujhe paresan karne ke liye me picturs ka miss use kar raha hai aur mere friends aur relatives ko friend request bhej raha hai please help imegeat reaction on this account\"]\n",
    "\n",
    "# Transform the new text using the vectorizer\n",
    "new_text_counts = count_vectorizer.transform(new_text)\n",
    "new_text_tfidf = tfidf_transformer.transform(new_text_counts)\n",
    "\n",
    "# Make predictions using the trained model\n",
    "try:\n",
    "    prediction = model.predict(new_text_tfidf)\n",
    "    \n",
    "    # Convert the predicted label back to the original category name\n",
    "    predicted_category = label_encoder.inverse_transform(prediction)\n",
    "    \n",
    "    # Print the predicted category name\n",
    "    print(\"Prediction:\", predicted_category[0])\n",
    "except Exception as e:\n",
    "    print(\"An error occurred during prediction:\", e)\n"
   ]
  },
  {
   "cell_type": "markdown",
   "metadata": {},
   "source": [
    "One can see that our model works well."
   ]
  },
  {
   "cell_type": "markdown",
   "metadata": {},
   "source": [
    "## Summary"
   ]
  },
  {
   "cell_type": "markdown",
   "metadata": {},
   "source": [
    "This project focused on the development of a Natural Language Processing (NLP) model for text classification of complaints based on their descriptions. The primary objective was to create an NLP model that categorizes complaints according to the victim, type of fraud, and other relevant parameters used for text classification.\n",
    "\n",
    "Utilizing Python and leveraging the scikit-learn and NLTK libraries, we embarked on the project with thorough data engineering and text preprocessing. This process included essential tasks such as removing punctuation and stop words, as well as applying stemming to normalize the data.\n",
    "\n",
    "We employed a Bag of Words model to convert textual descriptions into numerical feature vectors, enabling us to prepare the data for modeling. To identify the most effective classification algorithm, we experimented with four different models: Logistic Regression, Multinomial Naive Bayes, Linear Support Vector Machine (LinearSVM) and Random Forest.\n",
    "\n",
    "After evaluating the performance of each model using accuracy scores, we found that the Linear Regression achieved the highest accuracy of 76%, closely followed by the other models."
   ]
  }
 ],
 "metadata": {
  "kernelspec": {
   "display_name": "Python 3",
   "language": "python",
   "name": "python3"
  },
  "language_info": {
   "codemirror_mode": {
    "name": "ipython",
    "version": 3
   },
   "file_extension": ".py",
   "mimetype": "text/x-python",
   "name": "python",
   "nbconvert_exporter": "python",
   "pygments_lexer": "ipython3",
   "version": "3.11.4"
  }
 },
 "nbformat": 4,
 "nbformat_minor": 2
}
